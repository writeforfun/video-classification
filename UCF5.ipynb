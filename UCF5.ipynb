{
  "nbformat": 4,
  "nbformat_minor": 0,
  "metadata": {
    "kernelspec": {
      "display_name": "Python 3",
      "language": "python",
      "name": "python3"
    },
    "language_info": {
      "codemirror_mode": {
        "name": "ipython",
        "version": 3
      },
      "file_extension": ".py",
      "mimetype": "text/x-python",
      "name": "python",
      "nbconvert_exporter": "python",
      "pygments_lexer": "ipython3",
      "version": "3.7.4"
    },
    "colab": {
      "name": "UCF5.ipynb",
      "provenance": [],
      "collapsed_sections": [],
      "include_colab_link": true
    },
    "accelerator": "GPU"
  },
  "cells": [
    {
      "cell_type": "markdown",
      "metadata": {
        "id": "view-in-github",
        "colab_type": "text"
      },
      "source": [
        "<a href=\"https://colab.research.google.com/github/writeforfun/video-classification/blob/master/UCF5.ipynb\" target=\"_parent\"><img src=\"https://colab.research.google.com/assets/colab-badge.svg\" alt=\"Open In Colab\"/></a>"
      ]
    },
    {
      "cell_type": "code",
      "metadata": {
        "id": "6VwJJ94LGYSb",
        "colab_type": "code",
        "colab": {
          "base_uri": "https://localhost:8080/",
          "height": 122
        },
        "outputId": "71c35d78-db9b-4ebe-b698-26356ef3efd3"
      },
      "source": [
        "from google.colab import drive\n",
        "drive.mount('/content/drive')"
      ],
      "execution_count": 1,
      "outputs": [
        {
          "output_type": "stream",
          "text": [
            "Go to this URL in a browser: https://accounts.google.com/o/oauth2/auth?client_id=947318989803-6bn6qk8qdgf4n4g3pfee6491hc0brc4i.apps.googleusercontent.com&redirect_uri=urn%3aietf%3awg%3aoauth%3a2.0%3aoob&response_type=code&scope=email%20https%3a%2f%2fwww.googleapis.com%2fauth%2fdocs.test%20https%3a%2f%2fwww.googleapis.com%2fauth%2fdrive%20https%3a%2f%2fwww.googleapis.com%2fauth%2fdrive.photos.readonly%20https%3a%2f%2fwww.googleapis.com%2fauth%2fpeopleapi.readonly\n",
            "\n",
            "Enter your authorization code:\n",
            "··········\n",
            "Mounted at /content/drive\n"
          ],
          "name": "stdout"
        }
      ]
    },
    {
      "cell_type": "code",
      "metadata": {
        "id": "PBDCqDZEGKJT",
        "colab_type": "code",
        "colab": {
          "base_uri": "https://localhost:8080/",
          "height": 241
        },
        "outputId": "b3dba9ca-a5bf-49e0-c1b4-e2538456b72b"
      },
      "source": [
        "pip install keras_metrics"
      ],
      "execution_count": 2,
      "outputs": [
        {
          "output_type": "stream",
          "text": [
            "Collecting keras_metrics\n",
            "  Downloading https://files.pythonhosted.org/packages/32/c9/a87420da8e73de944e63a8e9cdcfb1f03ca31a7c4cdcdbd45d2cdf13275a/keras_metrics-1.1.0-py2.py3-none-any.whl\n",
            "Requirement already satisfied: Keras>=2.1.5 in /usr/local/lib/python3.6/dist-packages (from keras_metrics) (2.3.1)\n",
            "Requirement already satisfied: keras-applications>=1.0.6 in /usr/local/lib/python3.6/dist-packages (from Keras>=2.1.5->keras_metrics) (1.0.8)\n",
            "Requirement already satisfied: six>=1.9.0 in /usr/local/lib/python3.6/dist-packages (from Keras>=2.1.5->keras_metrics) (1.12.0)\n",
            "Requirement already satisfied: numpy>=1.9.1 in /usr/local/lib/python3.6/dist-packages (from Keras>=2.1.5->keras_metrics) (1.18.5)\n",
            "Requirement already satisfied: scipy>=0.14 in /usr/local/lib/python3.6/dist-packages (from Keras>=2.1.5->keras_metrics) (1.4.1)\n",
            "Requirement already satisfied: keras-preprocessing>=1.0.5 in /usr/local/lib/python3.6/dist-packages (from Keras>=2.1.5->keras_metrics) (1.1.2)\n",
            "Requirement already satisfied: h5py in /usr/local/lib/python3.6/dist-packages (from Keras>=2.1.5->keras_metrics) (2.10.0)\n",
            "Requirement already satisfied: pyyaml in /usr/local/lib/python3.6/dist-packages (from Keras>=2.1.5->keras_metrics) (3.13)\n",
            "Installing collected packages: keras-metrics\n",
            "Successfully installed keras-metrics-1.1.0\n"
          ],
          "name": "stdout"
        }
      ]
    },
    {
      "cell_type": "code",
      "metadata": {
        "id": "MBo1tUcbGKJg",
        "colab_type": "code",
        "colab": {
          "base_uri": "https://localhost:8080/",
          "height": 51
        },
        "outputId": "cc68b6ed-c962-4539-9cd3-85b840e1ff05"
      },
      "source": [
        "import keras\n",
        "from keras import applications\n",
        "from keras.preprocessing.image import ImageDataGenerator\n",
        "from keras import optimizers\n",
        "from keras.models import Sequential, Model \n",
        "from keras.layers import *\n",
        "from keras.callbacks import ModelCheckpoint, LearningRateScheduler, TensorBoard, EarlyStopping\n",
        " \n",
        "import os\n",
        "import cv2\n",
        "import numpy as np\n",
        "from sklearn.model_selection import train_test_split\n",
        "import keras_metrics as km\n",
        " \n",
        " \n",
        "from sklearn.metrics import accuracy_score\n",
        "from sklearn.metrics import precision_score\n",
        "from sklearn.metrics import recall_score\n",
        "from sklearn.metrics import f1_score\n",
        "from sklearn.metrics import cohen_kappa_score\n",
        "from sklearn.metrics import roc_auc_score\n",
        "from sklearn.metrics import multilabel_confusion_matrix\n",
        "data_dir = \"/content/drive/My Drive/Colab Notebooks/UCF50\"\n",
        "img_height , img_width = 64, 64\n",
        "seq_len = 30\n",
        " \n",
        "UCF15 = os.listdir(\"/content/drive/My Drive/Colab Notebooks/UCF15\")\n",
        "classes = []\n",
        "for item in UCF15:\n",
        "  if item == \".DS_Store\":\n",
        "    pass\n",
        "  else:\n",
        "    classes.append(item)\n",
        "classes = classes[0:5] \n",
        "classes"
      ],
      "execution_count": 3,
      "outputs": [
        {
          "output_type": "stream",
          "text": [
            "Using TensorFlow backend.\n"
          ],
          "name": "stderr"
        },
        {
          "output_type": "execute_result",
          "data": {
            "text/plain": [
              "['Billiards', 'GolfSwing', 'BaseballPitch', 'HulaHoop', 'Fencing']"
            ]
          },
          "metadata": {
            "tags": []
          },
          "execution_count": 3
        }
      ]
    },
    {
      "cell_type": "code",
      "metadata": {
        "id": "aEkc1UN5GKJo",
        "colab_type": "code",
        "colab": {}
      },
      "source": [
        "#  Creating frames from videos\n",
        " \n",
        "def frames_extraction(video_path):\n",
        "    frames_list = []\n",
        "     \n",
        "    vidObj = cv2.VideoCapture(video_path)\n",
        "    # Used as counter variable \n",
        "    count = 1\n",
        " \n",
        "    while count <= seq_len: \n",
        "         \n",
        "        success, image = vidObj.read() \n",
        "        if success:\n",
        "            image = cv2.resize(image, (img_height, img_width))\n",
        "            frames_list.append(image)\n",
        "            count += 1\n",
        "        else:\n",
        "            print(\"Defected frame\")\n",
        "            break\n",
        " \n",
        "            \n",
        "    return frames_list"
      ],
      "execution_count": 4,
      "outputs": []
    },
    {
      "cell_type": "code",
      "metadata": {
        "id": "Ft4RoAsFGKJt",
        "colab_type": "code",
        "colab": {}
      },
      "source": [
        "def create_data(input_dir):\n",
        "    X = []\n",
        "    Y = []\n",
        "     \n",
        "#     classes_list = os.listdir(input_dir)\n",
        "     \n",
        "    for c in classes:\n",
        "        \n",
        "        files_list = os.listdir(os.path.join(input_dir, c))\n",
        "        for f in files_list:\n",
        "            frames = frames_extraction(os.path.join(os.path.join(input_dir, c), f))\n",
        "            if len(frames) == seq_len:\n",
        "                y = [0]*len(classes)\n",
        "                y[classes.index(c)] = 1\n",
        "                X.append(frames)\n",
        "                Y.append(y)\n",
        "     \n",
        "    X = np.asarray(X)\n",
        "    Y = np.asarray(Y)\n",
        "    return X, Y"
      ],
      "execution_count": 5,
      "outputs": []
    },
    {
      "cell_type": "code",
      "metadata": {
        "id": "Z2lNZbcqGKJ1",
        "colab_type": "code",
        "colab": {}
      },
      "source": [
        "X, Y = create_data(data_dir)\n",
        "X_train, X_test, y_train, y_test = train_test_split(X, Y, test_size=0.20, shuffle=True, random_state=0)"
      ],
      "execution_count": 6,
      "outputs": []
    },
    {
      "cell_type": "code",
      "metadata": {
        "id": "uIaDi6xlfyq8",
        "colab_type": "code",
        "colab": {
          "base_uri": "https://localhost:8080/",
          "height": 34
        },
        "outputId": "f6c9a91a-59f7-478c-d2bf-d25d2d6a64aa"
      },
      "source": [
        "X_train.shape"
      ],
      "execution_count": 7,
      "outputs": [
        {
          "output_type": "execute_result",
          "data": {
            "text/plain": [
              "(542, 30, 64, 64, 3)"
            ]
          },
          "metadata": {
            "tags": []
          },
          "execution_count": 7
        }
      ]
    },
    {
      "cell_type": "code",
      "metadata": {
        "id": "1EggIqOaXt7j",
        "colab_type": "code",
        "colab": {
          "base_uri": "https://localhost:8080/",
          "height": 34
        },
        "outputId": "00e0ad83-4db9-4747-8725-0ad14f909d1d"
      },
      "source": [
        "X_test.shape"
      ],
      "execution_count": 8,
      "outputs": [
        {
          "output_type": "execute_result",
          "data": {
            "text/plain": [
              "(136, 30, 64, 64, 3)"
            ]
          },
          "metadata": {
            "tags": []
          },
          "execution_count": 8
        }
      ]
    },
    {
      "cell_type": "code",
      "metadata": {
        "id": "AyCrvMV-GKJ9",
        "colab_type": "code",
        "colab": {
          "base_uri": "https://localhost:8080/",
          "height": 357
        },
        "outputId": "a950745b-d841-439a-b330-bd57ecb86f3c"
      },
      "source": [
        "model = Sequential()\n",
        "model.add(ConvLSTM2D(filters = 64, kernel_size = (3, 3), data_format = \"channels_last\", input_shape = (seq_len, img_height, img_width, 3)))\n",
        "model.add(Dropout(0.2))\n",
        "model.add(Flatten())\n",
        "model.add(Dense(256, activation=\"relu\",name=\"dense1\"))\n",
        "model.add(Dropout(0.3))\n",
        "model.add(Dense(len(classes), activation = \"softmax\",name=\"dense2\"))\n",
        "\n",
        "model.summary()"
      ],
      "execution_count": 9,
      "outputs": [
        {
          "output_type": "stream",
          "text": [
            "Model: \"sequential_1\"\n",
            "_________________________________________________________________\n",
            "Layer (type)                 Output Shape              Param #   \n",
            "=================================================================\n",
            "conv_lst_m2d_1 (ConvLSTM2D)  (None, 62, 62, 64)        154624    \n",
            "_________________________________________________________________\n",
            "dropout_1 (Dropout)          (None, 62, 62, 64)        0         \n",
            "_________________________________________________________________\n",
            "flatten_1 (Flatten)          (None, 246016)            0         \n",
            "_________________________________________________________________\n",
            "dense1 (Dense)               (None, 256)               62980352  \n",
            "_________________________________________________________________\n",
            "dropout_2 (Dropout)          (None, 256)               0         \n",
            "_________________________________________________________________\n",
            "dense2 (Dense)               (None, 5)                 1285      \n",
            "=================================================================\n",
            "Total params: 63,136,261\n",
            "Trainable params: 63,136,261\n",
            "Non-trainable params: 0\n",
            "_________________________________________________________________\n"
          ],
          "name": "stdout"
        }
      ]
    },
    {
      "cell_type": "code",
      "metadata": {
        "id": "ueDWuO0-8-Ww",
        "colab_type": "code",
        "colab": {
          "base_uri": "https://localhost:8080/",
          "height": 754
        },
        "outputId": "1c79c7ea-ca00-4895-9db5-276778ff6c5c"
      },
      "source": [
        "from keras.utils import plot_model\n",
        "plot_model(model, show_shapes=True, to_file='composite_lstm2d.png')"
      ],
      "execution_count": 10,
      "outputs": [
        {
          "output_type": "execute_result",
          "data": {
            "image/png": "[encoded data removed]",
            "text/plain": [
              "<IPython.core.display.Image object>"
            ]
          },
          "metadata": {
            "tags": []
          },
          "execution_count": 10
        }
      ]
    },
    {
      "cell_type": "code",
      "metadata": {
        "id": "oN1Dd9lBGKKD",
        "colab_type": "code",
        "colab": {}
      },
      "source": [
        "opt = keras.optimizers.SGD(lr=0.001)\n",
        "model.compile(loss='categorical_crossentropy', optimizer=opt, metrics=[\"accuracy\"])\n",
        "earlystop = EarlyStopping(patience=7)\n",
        "callbacks = [earlystop]"
      ],
      "execution_count": 11,
      "outputs": []
    },
    {
      "cell_type": "code",
      "metadata": {
        "id": "EP3GjQJ8jLzg",
        "colab_type": "code",
        "colab": {}
      },
      "source": [
        "#validation_split：0~1之間的浮點數，用來指定訓練集的一定比例數據作為驗證集。驗證集將不參與訓練，並在每個epoch結束後測試的模型的指標，如損失函數、精確度等。\n",
        "#注意，validation_split的劃分在shuffle之前，因此如果你的數據本身是有序的，需要先手工打亂再指定validation_split，否則可能會出現驗證集樣本不均勻。"
      ],
      "execution_count": 12,
      "outputs": []
    },
    {
      "cell_type": "code",
      "metadata": {
        "id": "D_N8f1HRGKKJ",
        "colab_type": "code",
        "colab": {
          "base_uri": "https://localhost:8080/",
          "height": 1000
        },
        "outputId": "8cce9b1f-3ab1-49ad-df5b-5a020c31c9a7"
      },
      "source": [
        "history = model.fit(x = X_train, y = y_train, epochs=50, batch_size = 8 , shuffle=True, validation_split=0.2, callbacks=callbacks)"
      ],
      "execution_count": 13,
      "outputs": [
        {
          "output_type": "stream",
          "text": [
            "Train on 433 samples, validate on 109 samples\n",
            "Epoch 1/50\n",
            "433/433 [==============================] - 64s 149ms/step - loss: 1.4058 - accuracy: 0.4550 - val_loss: 0.9500 - val_accuracy: 0.5046\n",
            "Epoch 2/50\n",
            "433/433 [==============================] - 57s 133ms/step - loss: 0.7793 - accuracy: 0.7136 - val_loss: 0.8709 - val_accuracy: 0.5138\n",
            "Epoch 3/50\n",
            "433/433 [==============================] - 58s 133ms/step - loss: 0.3539 - accuracy: 0.8868 - val_loss: 0.6898 - val_accuracy: 0.7523\n",
            "Epoch 4/50\n",
            "433/433 [==============================] - 58s 133ms/step - loss: 0.2290 - accuracy: 0.9307 - val_loss: 0.2272 - val_accuracy: 0.9083\n",
            "Epoch 5/50\n",
            "433/433 [==============================] - 57s 133ms/step - loss: 0.1158 - accuracy: 0.9677 - val_loss: 0.2131 - val_accuracy: 0.8991\n",
            "Epoch 6/50\n",
            "433/433 [==============================] - 57s 133ms/step - loss: 0.0388 - accuracy: 0.9977 - val_loss: 0.1585 - val_accuracy: 0.9266\n",
            "Epoch 7/50\n",
            "433/433 [==============================] - 58s 133ms/step - loss: 0.0308 - accuracy: 0.9977 - val_loss: 0.1380 - val_accuracy: 0.9358\n",
            "Epoch 8/50\n",
            "433/433 [==============================] - 57s 133ms/step - loss: 0.0182 - accuracy: 1.0000 - val_loss: 0.1307 - val_accuracy: 0.9450\n",
            "Epoch 9/50\n",
            "433/433 [==============================] - 57s 132ms/step - loss: 0.0185 - accuracy: 1.0000 - val_loss: 0.1467 - val_accuracy: 0.9450\n",
            "Epoch 10/50\n",
            "433/433 [==============================] - 58s 133ms/step - loss: 0.0152 - accuracy: 1.0000 - val_loss: 0.1365 - val_accuracy: 0.9450\n",
            "Epoch 11/50\n",
            "433/433 [==============================] - 57s 133ms/step - loss: 0.0111 - accuracy: 1.0000 - val_loss: 0.1308 - val_accuracy: 0.9358\n",
            "Epoch 12/50\n",
            "433/433 [==============================] - 58s 133ms/step - loss: 0.0141 - accuracy: 1.0000 - val_loss: 0.1332 - val_accuracy: 0.9174\n",
            "Epoch 13/50\n",
            "433/433 [==============================] - 58s 133ms/step - loss: 0.0086 - accuracy: 1.0000 - val_loss: 0.1114 - val_accuracy: 0.9541\n",
            "Epoch 14/50\n",
            "433/433 [==============================] - 57s 133ms/step - loss: 0.0072 - accuracy: 1.0000 - val_loss: 0.1056 - val_accuracy: 0.9541\n",
            "Epoch 15/50\n",
            "433/433 [==============================] - 58s 133ms/step - loss: 0.0069 - accuracy: 1.0000 - val_loss: 0.1136 - val_accuracy: 0.9541\n",
            "Epoch 16/50\n",
            "433/433 [==============================] - 57s 133ms/step - loss: 0.0067 - accuracy: 1.0000 - val_loss: 0.1067 - val_accuracy: 0.9450\n",
            "Epoch 17/50\n",
            "433/433 [==============================] - 58s 133ms/step - loss: 0.0059 - accuracy: 1.0000 - val_loss: 0.1076 - val_accuracy: 0.9450\n",
            "Epoch 18/50\n",
            "433/433 [==============================] - 58s 133ms/step - loss: 0.0064 - accuracy: 1.0000 - val_loss: 0.1151 - val_accuracy: 0.9541\n",
            "Epoch 19/50\n",
            "433/433 [==============================] - 58s 133ms/step - loss: 0.0050 - accuracy: 1.0000 - val_loss: 0.1093 - val_accuracy: 0.9450\n",
            "Epoch 20/50\n",
            "433/433 [==============================] - 58s 133ms/step - loss: 0.0042 - accuracy: 1.0000 - val_loss: 0.1004 - val_accuracy: 0.9541\n",
            "Epoch 21/50\n",
            "433/433 [==============================] - 58s 133ms/step - loss: 0.0042 - accuracy: 1.0000 - val_loss: 0.0997 - val_accuracy: 0.9450\n",
            "Epoch 22/50\n",
            "433/433 [==============================] - 57s 133ms/step - loss: 0.0049 - accuracy: 1.0000 - val_loss: 0.1011 - val_accuracy: 0.9541\n",
            "Epoch 23/50\n",
            "433/433 [==============================] - 58s 133ms/step - loss: 0.0040 - accuracy: 1.0000 - val_loss: 0.0949 - val_accuracy: 0.9633\n",
            "Epoch 24/50\n",
            "433/433 [==============================] - 57s 133ms/step - loss: 0.0035 - accuracy: 1.0000 - val_loss: 0.1126 - val_accuracy: 0.9541\n",
            "Epoch 25/50\n",
            "433/433 [==============================] - 58s 133ms/step - loss: 0.0053 - accuracy: 1.0000 - val_loss: 0.0970 - val_accuracy: 0.9450\n",
            "Epoch 26/50\n",
            "433/433 [==============================] - 58s 133ms/step - loss: 0.0040 - accuracy: 1.0000 - val_loss: 0.0970 - val_accuracy: 0.9633\n",
            "Epoch 27/50\n",
            "433/433 [==============================] - 58s 133ms/step - loss: 0.0033 - accuracy: 1.0000 - val_loss: 0.0918 - val_accuracy: 0.9450\n",
            "Epoch 28/50\n",
            "433/433 [==============================] - 58s 133ms/step - loss: 0.0036 - accuracy: 1.0000 - val_loss: 0.0972 - val_accuracy: 0.9541\n",
            "Epoch 29/50\n",
            "433/433 [==============================] - 58s 133ms/step - loss: 0.0038 - accuracy: 1.0000 - val_loss: 0.0907 - val_accuracy: 0.9633\n",
            "Epoch 30/50\n",
            "433/433 [==============================] - 57s 133ms/step - loss: 0.0026 - accuracy: 1.0000 - val_loss: 0.0903 - val_accuracy: 0.9450\n",
            "Epoch 31/50\n",
            "433/433 [==============================] - 58s 133ms/step - loss: 0.0028 - accuracy: 1.0000 - val_loss: 0.0918 - val_accuracy: 0.9450\n",
            "Epoch 32/50\n",
            "433/433 [==============================] - 58s 133ms/step - loss: 0.0025 - accuracy: 1.0000 - val_loss: 0.0891 - val_accuracy: 0.9541\n",
            "Epoch 33/50\n",
            "433/433 [==============================] - 58s 133ms/step - loss: 0.0026 - accuracy: 1.0000 - val_loss: 0.0939 - val_accuracy: 0.9541\n",
            "Epoch 34/50\n",
            "433/433 [==============================] - 58s 133ms/step - loss: 0.0023 - accuracy: 1.0000 - val_loss: 0.0890 - val_accuracy: 0.9541\n",
            "Epoch 35/50\n",
            "433/433 [==============================] - 57s 133ms/step - loss: 0.0026 - accuracy: 1.0000 - val_loss: 0.0870 - val_accuracy: 0.9541\n",
            "Epoch 36/50\n",
            "433/433 [==============================] - 58s 133ms/step - loss: 0.0028 - accuracy: 1.0000 - val_loss: 0.0837 - val_accuracy: 0.9541\n",
            "Epoch 37/50\n",
            "433/433 [==============================] - 58s 133ms/step - loss: 0.0018 - accuracy: 1.0000 - val_loss: 0.0865 - val_accuracy: 0.9633\n",
            "Epoch 38/50\n",
            "433/433 [==============================] - 58s 133ms/step - loss: 0.0024 - accuracy: 1.0000 - val_loss: 0.0834 - val_accuracy: 0.9358\n",
            "Epoch 39/50\n",
            "433/433 [==============================] - 57s 133ms/step - loss: 0.0019 - accuracy: 1.0000 - val_loss: 0.0836 - val_accuracy: 0.9450\n",
            "Epoch 40/50\n",
            "433/433 [==============================] - 58s 133ms/step - loss: 0.0018 - accuracy: 1.0000 - val_loss: 0.0848 - val_accuracy: 0.9541\n",
            "Epoch 41/50\n",
            "433/433 [==============================] - 57s 133ms/step - loss: 0.0019 - accuracy: 1.0000 - val_loss: 0.0867 - val_accuracy: 0.9541\n",
            "Epoch 42/50\n",
            "433/433 [==============================] - 58s 133ms/step - loss: 0.0019 - accuracy: 1.0000 - val_loss: 0.0833 - val_accuracy: 0.9541\n",
            "Epoch 43/50\n",
            "433/433 [==============================] - 57s 133ms/step - loss: 0.0017 - accuracy: 1.0000 - val_loss: 0.0867 - val_accuracy: 0.9541\n",
            "Epoch 44/50\n",
            "433/433 [==============================] - 57s 133ms/step - loss: 0.0027 - accuracy: 1.0000 - val_loss: 0.0821 - val_accuracy: 0.9633\n",
            "Epoch 45/50\n",
            "433/433 [==============================] - 58s 133ms/step - loss: 0.0017 - accuracy: 1.0000 - val_loss: 0.0818 - val_accuracy: 0.9633\n",
            "Epoch 46/50\n",
            "433/433 [==============================] - 57s 133ms/step - loss: 0.0019 - accuracy: 1.0000 - val_loss: 0.0920 - val_accuracy: 0.9633\n",
            "Epoch 47/50\n",
            "433/433 [==============================] - 57s 132ms/step - loss: 0.0019 - accuracy: 1.0000 - val_loss: 0.0852 - val_accuracy: 0.9541\n",
            "Epoch 48/50\n",
            "433/433 [==============================] - 57s 133ms/step - loss: 0.0015 - accuracy: 1.0000 - val_loss: 0.0827 - val_accuracy: 0.9633\n",
            "Epoch 49/50\n",
            "433/433 [==============================] - 58s 133ms/step - loss: 0.0017 - accuracy: 1.0000 - val_loss: 0.0833 - val_accuracy: 0.9541\n",
            "Epoch 50/50\n",
            "433/433 [==============================] - 57s 133ms/step - loss: 0.0013 - accuracy: 1.0000 - val_loss: 0.0825 - val_accuracy: 0.9541\n"
          ],
          "name": "stdout"
        }
      ]
    },
    {
      "cell_type": "code",
      "metadata": {
        "id": "AfAnItVEl9Y-",
        "colab_type": "code",
        "colab": {
          "base_uri": "https://localhost:8080/",
          "height": 34
        },
        "outputId": "74a3e426-12d0-46db-a75c-1f4641bc882d"
      },
      "source": [
        "score = model.evaluate(X_test, y_test, verbose=1)"
      ],
      "execution_count": 14,
      "outputs": [
        {
          "output_type": "stream",
          "text": [
            "136/136 [==============================] - 5s 34ms/step\n"
          ],
          "name": "stdout"
        }
      ]
    },
    {
      "cell_type": "code",
      "metadata": {
        "id": "XtcSmje8o7uw",
        "colab_type": "code",
        "colab": {
          "base_uri": "https://localhost:8080/",
          "height": 51
        },
        "outputId": "6a4f8ad2-4882-4b50-eb8f-66fb221c45e8"
      },
      "source": [
        "print ( 'Test loss:' , score[0])\n",
        "print ( 'Test Acc:' , score[1])"
      ],
      "execution_count": 30,
      "outputs": [
        {
          "output_type": "stream",
          "text": [
            "Test loss: 0.07085288820021293\n",
            "Test Acc: 0.9779411554336548\n"
          ],
          "name": "stdout"
        }
      ]
    },
    {
      "cell_type": "code",
      "metadata": {
        "id": "tKkl-jsVpKAA",
        "colab_type": "code",
        "colab": {
          "base_uri": "https://localhost:8080/",
          "height": 312
        },
        "outputId": "8ee97b5b-f1ea-487f-d8f5-d1092a4bd409"
      },
      "source": [
        "import matplotlib.pyplot as plt\n",
        "# summarize history for accuracy\n",
        "print(history.history.keys())\n",
        "plt.plot(history.history['accuracy'])\n",
        "plt.plot(history.history['val_accuracy'])\n",
        "plt.title('model accuracy')\n",
        "plt.ylabel('accuracy')\n",
        "plt.xlabel('epoch')\n",
        "plt.legend(['train', 'test'], loc='upper left')\n",
        "plt.show()"
      ],
      "execution_count": 18,
      "outputs": [
        {
          "output_type": "stream",
          "text": [
            "dict_keys(['val_loss', 'val_accuracy', 'loss', 'accuracy'])\n"
          ],
          "name": "stdout"
        },
        {
          "output_type": "display_data",
          "data": {
            "image/png": "[encoded data removed]",
            "text/plain": [
              "<Figure size 432x288 with 1 Axes>"
            ]
          },
          "metadata": {
            "tags": [],
            "needs_background": "light"
          }
        }
      ]
    },
    {
      "cell_type": "code",
      "metadata": {
        "id": "JbTbDKr8pSVB",
        "colab_type": "code",
        "colab": {
          "base_uri": "https://localhost:8080/",
          "height": 295
        },
        "outputId": "532bd869-ce99-49cb-983a-e197e8e92bd6"
      },
      "source": [
        "# summarize history for loss\n",
        "plt.plot(history.history['loss'])\n",
        "plt.plot(history.history['val_loss'])\n",
        "plt.title('model loss')\n",
        "plt.ylabel('loss')\n",
        "plt.xlabel('epoch')\n",
        "plt.legend(['train', 'test'], loc='upper left')\n",
        "plt.show()"
      ],
      "execution_count": 19,
      "outputs": [
        {
          "output_type": "display_data",
          "data": {
            "image/png": "[encoded data removed]",
            "text/plain": [
              "<Figure size 432x288 with 1 Axes>"
            ]
          },
          "metadata": {
            "tags": [],
            "needs_background": "light"
          }
        }
      ]
    },
    {
      "cell_type": "code",
      "metadata": {
        "id": "bWt8S4mMTVb2",
        "colab_type": "code",
        "colab": {
          "base_uri": "https://localhost:8080/",
          "height": 136
        },
        "outputId": "d783ff21-a6c1-4b4e-a817-3d1d6c005da1"
      },
      "source": [
        "y_train"
      ],
      "execution_count": 20,
      "outputs": [
        {
          "output_type": "execute_result",
          "data": {
            "text/plain": [
              "array([[0, 0, 1, 0, 0],\n",
              "       [0, 0, 1, 0, 0],\n",
              "       [0, 0, 0, 0, 1],\n",
              "       ...,\n",
              "       [0, 1, 0, 0, 0],\n",
              "       [0, 0, 0, 0, 1],\n",
              "       [0, 0, 0, 1, 0]])"
            ]
          },
          "metadata": {
            "tags": []
          },
          "execution_count": 20
        }
      ]
    },
    {
      "cell_type": "code",
      "metadata": {
        "id": "slK7o5UZGKKO",
        "colab_type": "code",
        "colab": {}
      },
      "source": [
        "y_pred = model.predict(X_test)\n",
        "y_pred = np.argmax(y_pred, axis = 1)#模擬出來的\n",
        "y_test = np.argmax(y_test, axis = 1)#本來就有的"
      ],
      "execution_count": 21,
      "outputs": []
    },
    {
      "cell_type": "code",
      "metadata": {
        "id": "Ml4p1KHwTi24",
        "colab_type": "code",
        "colab": {}
      },
      "source": [
        "y_train = np.argmax(y_train, axis = 1)"
      ],
      "execution_count": 22,
      "outputs": []
    },
    {
      "cell_type": "code",
      "metadata": {
        "id": "9ipYku_NTkPJ",
        "colab_type": "code",
        "colab": {
          "base_uri": "https://localhost:8080/",
          "height": 442
        },
        "outputId": "ec76d34b-1fb6-426d-e1b2-d55e9e777082"
      },
      "source": [
        "y_train"
      ],
      "execution_count": 23,
      "outputs": [
        {
          "output_type": "execute_result",
          "data": {
            "text/plain": [
              "array([2, 2, 4, 0, 3, 1, 1, 4, 3, 2, 4, 4, 2, 1, 0, 3, 2, 2, 2, 1, 1, 2,\n",
              "       3, 0, 3, 1, 1, 2, 0, 0, 2, 0, 3, 2, 4, 2, 3, 4, 0, 1, 1, 0, 2, 1,\n",
              "       2, 4, 2, 3, 4, 3, 1, 2, 0, 4, 2, 0, 1, 4, 3, 2, 2, 0, 1, 3, 1, 2,\n",
              "       3, 2, 3, 1, 2, 1, 2, 2, 1, 2, 3, 0, 1, 1, 4, 2, 1, 0, 2, 4, 4, 1,\n",
              "       2, 1, 0, 2, 4, 1, 3, 0, 3, 1, 0, 1, 0, 1, 2, 4, 1, 4, 2, 1, 1, 2,\n",
              "       0, 1, 3, 0, 1, 2, 0, 4, 0, 3, 0, 1, 2, 2, 1, 4, 2, 3, 2, 3, 2, 4,\n",
              "       1, 0, 3, 2, 0, 0, 1, 2, 4, 4, 4, 1, 3, 2, 2, 3, 3, 2, 2, 2, 4, 0,\n",
              "       0, 0, 0, 3, 3, 2, 3, 0, 2, 0, 4, 3, 1, 2, 1, 0, 0, 4, 0, 2, 3, 3,\n",
              "       1, 0, 0, 2, 1, 2, 1, 2, 1, 4, 2, 1, 0, 3, 2, 2, 2, 4, 1, 0, 1, 0,\n",
              "       3, 2, 4, 3, 2, 2, 3, 1, 0, 3, 4, 2, 4, 1, 2, 0, 1, 3, 0, 3, 3, 4,\n",
              "       3, 0, 0, 3, 0, 2, 4, 0, 4, 1, 1, 1, 4, 1, 1, 4, 2, 3, 0, 0, 4, 0,\n",
              "       3, 4, 4, 1, 4, 1, 2, 2, 3, 3, 3, 1, 1, 0, 3, 4, 1, 0, 0, 0, 2, 0,\n",
              "       3, 4, 2, 2, 4, 3, 0, 3, 0, 4, 2, 3, 1, 0, 2, 1, 0, 4, 4, 3, 2, 1,\n",
              "       4, 3, 4, 2, 0, 0, 2, 1, 4, 0, 1, 1, 3, 4, 0, 3, 4, 3, 3, 1, 4, 2,\n",
              "       1, 2, 2, 3, 4, 4, 3, 1, 0, 3, 4, 1, 3, 2, 4, 3, 4, 4, 4, 1, 1, 0,\n",
              "       0, 0, 2, 1, 0, 2, 2, 0, 4, 1, 2, 3, 2, 4, 3, 1, 2, 2, 1, 2, 4, 2,\n",
              "       2, 0, 2, 2, 0, 3, 0, 2, 4, 4, 4, 2, 4, 1, 3, 0, 1, 3, 3, 1, 0, 2,\n",
              "       3, 4, 0, 1, 4, 4, 4, 1, 0, 0, 2, 1, 0, 2, 0, 1, 1, 2, 1, 4, 4, 3,\n",
              "       1, 3, 2, 0, 3, 1, 3, 0, 3, 0, 0, 0, 1, 3, 3, 0, 1, 2, 4, 1, 3, 2,\n",
              "       0, 2, 2, 1, 1, 0, 3, 1, 1, 4, 3, 1, 2, 4, 4, 1, 4, 1, 0, 0, 2, 0,\n",
              "       0, 0, 0, 0, 0, 2, 3, 1, 0, 0, 4, 0, 2, 0, 0, 4, 3, 2, 3, 2, 1, 2,\n",
              "       3, 2, 2, 1, 1, 0, 4, 1, 4, 2, 3, 2, 1, 0, 1, 0, 0, 2, 1, 0, 3, 4,\n",
              "       2, 0, 0, 2, 0, 1, 0, 2, 1, 4, 3, 0, 4, 2, 2, 1, 3, 3, 0, 4, 0, 0,\n",
              "       1, 3, 3, 1, 1, 3, 3, 4, 1, 1, 2, 0, 1, 0, 3, 2, 0, 0, 3, 4, 1, 0,\n",
              "       3, 3, 2, 2, 4, 3, 0, 4, 1, 0, 2, 1, 4, 3])"
            ]
          },
          "metadata": {
            "tags": []
          },
          "execution_count": 23
        }
      ]
    },
    {
      "cell_type": "code",
      "metadata": {
        "id": "Z-0VUC9gQhas",
        "colab_type": "code",
        "colab": {}
      },
      "source": [
        "# from sklearn.metrics import classification_report\n",
        "# print(classification_report(y_test, y_pred))"
      ],
      "execution_count": 24,
      "outputs": []
    },
    {
      "cell_type": "code",
      "metadata": {
        "id": "2hoxB8n9Rgmn",
        "colab_type": "code",
        "colab": {
          "base_uri": "https://localhost:8080/",
          "height": 34
        },
        "outputId": "c66bc9bb-0b0a-4aeb-a85f-ef441008e97a"
      },
      "source": [
        "dense1 = Model(inputs=model.input, outputs=model.get_layer('dense1').output)\n",
        "dense1_data = dense1.predict(X_test) \n",
        "# dense1_data = dense1.predict(X_train) \n",
        "dense1_data.shape"
      ],
      "execution_count": 25,
      "outputs": [
        {
          "output_type": "execute_result",
          "data": {
            "text/plain": [
              "(136, 256)"
            ]
          },
          "metadata": {
            "tags": []
          },
          "execution_count": 25
        }
      ]
    },
    {
      "cell_type": "code",
      "metadata": {
        "id": "fmgU5UA6MZmv",
        "colab_type": "code",
        "colab": {
          "base_uri": "https://localhost:8080/",
          "height": 204
        },
        "outputId": "546402b4-b4f8-4bcf-9da0-526d84f5aecf"
      },
      "source": [
        "from sklearn.decomposition import PCA\n",
        "import pandas as pd                     \n",
        "pca = PCA(n_components=2)  # 把維度降至2維\n",
        "# 進行PCA降維\n",
        "X_pca = pca.fit_transform(dense1_data)\n",
        "# 生成降維後的dataframe\n",
        "X_pca_frame = pd.DataFrame(X_pca, columns=['pca_1', 'pca_2'])  \n",
        "X_pca_frame.head()\n"
      ],
      "execution_count": 26,
      "outputs": [
        {
          "output_type": "execute_result",
          "data": {
            "text/html": [
              "<div>\n",
              "<style scoped>\n",
              "    .dataframe tbody tr th:only-of-type {\n",
              "        vertical-align: middle;\n",
              "    }\n",
              "\n",
              "    .dataframe tbody tr th {\n",
              "        vertical-align: top;\n",
              "    }\n",
              "\n",
              "    .dataframe thead th {\n",
              "        text-align: right;\n",
              "    }\n",
              "</style>\n",
              "<table border=\"1\" class=\"dataframe\">\n",
              "  <thead>\n",
              "    <tr style=\"text-align: right;\">\n",
              "      <th></th>\n",
              "      <th>pca_1</th>\n",
              "      <th>pca_2</th>\n",
              "    </tr>\n",
              "  </thead>\n",
              "  <tbody>\n",
              "    <tr>\n",
              "      <th>0</th>\n",
              "      <td>-7.790878</td>\n",
              "      <td>-3.662780</td>\n",
              "    </tr>\n",
              "    <tr>\n",
              "      <th>1</th>\n",
              "      <td>9.107510</td>\n",
              "      <td>-4.495489</td>\n",
              "    </tr>\n",
              "    <tr>\n",
              "      <th>2</th>\n",
              "      <td>-3.426060</td>\n",
              "      <td>-1.862576</td>\n",
              "    </tr>\n",
              "    <tr>\n",
              "      <th>3</th>\n",
              "      <td>-4.364174</td>\n",
              "      <td>-4.408132</td>\n",
              "    </tr>\n",
              "    <tr>\n",
              "      <th>4</th>\n",
              "      <td>-2.654309</td>\n",
              "      <td>-1.035101</td>\n",
              "    </tr>\n",
              "  </tbody>\n",
              "</table>\n",
              "</div>"
            ],
            "text/plain": [
              "      pca_1     pca_2\n",
              "0 -7.790878 -3.662780\n",
              "1  9.107510 -4.495489\n",
              "2 -3.426060 -1.862576\n",
              "3 -4.364174 -4.408132\n",
              "4 -2.654309 -1.035101"
            ]
          },
          "metadata": {
            "tags": []
          },
          "execution_count": 26
        }
      ]
    },
    {
      "cell_type": "code",
      "metadata": {
        "id": "3BCjXVjtMi9F",
        "colab_type": "code",
        "colab": {
          "base_uri": "https://localhost:8080/",
          "height": 34
        },
        "outputId": "f544710d-0e7a-44d8-92e5-63934f17407d"
      },
      "source": [
        "pca.explained_variance_ratio_"
      ],
      "execution_count": 27,
      "outputs": [
        {
          "output_type": "execute_result",
          "data": {
            "text/plain": [
              "array([0.3442619 , 0.23183174], dtype=float32)"
            ]
          },
          "metadata": {
            "tags": []
          },
          "execution_count": 27
        }
      ]
    },
    {
      "cell_type": "code",
      "metadata": {
        "id": "jrMWGdabMxP9",
        "colab_type": "code",
        "colab": {
          "base_uri": "https://localhost:8080/",
          "height": 281
        },
        "outputId": "268a80ec-4646-43ec-f6da-73d8f0280822"
      },
      "source": [
        "plt.figure()\n",
        "colors = ['navy', 'turquoise', 'darkorange','green','red']\n",
        "lw = 2\n",
        "for color, i, target_name in zip(colors, [0, 1, 2, 3, 4], np.array(classes)):\n",
        "    plt.scatter(X_pca[y_test == i, 0], X_pca[y_test == i, 1], color=color, alpha=.8, lw=lw,# Y2要numpy array\n",
        "                label=target_name)\n",
        "plt.legend(loc='best', shadow=False, scatterpoints=1)\n",
        "plt.title('PCA of UCF5 dataset')\n",
        "plt.show()"
      ],
      "execution_count": 28,
      "outputs": [
        {
          "output_type": "display_data",
          "data": {
            "image/png": "[encoded data removed]",
            "text/plain": [
              "<Figure size 432x288 with 1 Axes>"
            ]
          },
          "metadata": {
            "tags": [],
            "needs_background": "light"
          }
        }
      ]
    },
    {
      "cell_type": "code",
      "metadata": {
        "id": "tDz5V8yZM0KU",
        "colab_type": "code",
        "colab": {
          "base_uri": "https://localhost:8080/",
          "height": 271
        },
        "outputId": "924bccff-d605-486e-c915-8e8675b86a23"
      },
      "source": [
        "from sklearn.cluster import KMeans\n",
        "from sklearn import metrics\n",
        "d = {}\n",
        "fig_reduced_data = plt.figure(figsize=(12, 12)) #畫圖之前先設置figure，此函数=設置一塊自定義大小的畫布讓之後的圖形印在這塊畫布上\n",
        "for k in range(5, 6):\n",
        "    est = KMeans(n_clusters=k, random_state=111)\n",
        "    y_pred_kmeans = est.fit_predict(X_pca) #作用到降維後的數據上\n",
        "    # ====評估不同k值效果====\n",
        "\n",
        "    # X_pca_frame：表示要cluster的樣本數據，一般如（samples，features）的格式。y_pred：即cluster後得到的label，如（samples，）的格式\n",
        "    calinski_harabaz_score = metrics.calinski_harabasz_score(X_pca_frame, y_pred_kmeans)  \n",
        "    d.update({k: calinski_harabaz_score})\n",
        "    print('calinski_harabaz_score with k={0} is {1}'.format(k, calinski_harabaz_score))  # CH score的数值越大越好\n",
        "    #生成2D圖，每個樣本點的坐標分别是兩個主成分的值\n",
        "    ax = plt.subplot(4, 3, k-1) #將設置的畫布大小分成幾個部分，表示4(row)x3(col),k-4表示選擇圖形輸出的區域在第k-1塊，參數必須在“rowXcol”範圍\n",
        "    ax.scatter(X_pca_frame.pca_1, X_pca_frame.pca_2, c=y_pred_kmeans)  # pca_1、pca_2為輸入數據，c表示顏色序列\n",
        "    # ax.set_xlabel('pca_1')\n",
        "    # ax.set_ylabel('pca_2')\n",
        "    plt.title('K-means of UCF5 dataset')\n",
        "\n",
        "    plt.tight_layout()"
      ],
      "execution_count": 29,
      "outputs": [
        {
          "output_type": "stream",
          "text": [
            "calinski_harabaz_score with k=5 is 496.34972528413834\n"
          ],
          "name": "stdout"
        },
        {
          "output_type": "display_data",
          "data": {
            "image/png": "[encoded data removed]",
            "text/plain": [
              "<Figure size 864x864 with 1 Axes>"
            ]
          },
          "metadata": {
            "tags": [],
            "needs_background": "light"
          }
        }
      ]
    },
    {
      "cell_type": "code",
      "metadata": {
        "id": "wafRAVZRObj9",
        "colab_type": "code",
        "colab": {}
      },
      "source": [
        ""
      ],
      "execution_count": null,
      "outputs": []
    }
  ]
}